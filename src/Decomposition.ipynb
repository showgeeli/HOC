{
 "cells": [
  {
   "cell_type": "markdown",
   "metadata": {},
   "source": [
    "# Decompounding Population Spike Counts"
   ]
  },
  {
   "cell_type": "code",
   "execution_count": 1,
   "metadata": {},
   "outputs": [],
   "source": [
    "import matplotlib.pyplot as plt\n",
    "import numpy as np \n",
    "import Correlated_Poisson_Process as pp\n",
    "import utils as utils"
   ]
  },
  {
   "cell_type": "markdown",
   "metadata": {},
   "source": [
    "### A new function to generate population spike trains via pre-defined amplitude (book chapter)."
   ]
  },
  {
   "cell_type": "code",
   "execution_count": 2,
   "metadata": {},
   "outputs": [],
   "source": [
    "def generate_popuActivity(amplitudes_dist, carrier_rate, T):\n",
    "    '''\n",
    "\n",
    "    A new function to generate population spike trains via pre-defined amplitude , \n",
    "    distribution rate of carrier and observation period \n",
    "    '''\n",
    "    nn = len(amplitudes_dist) # number of neurons\n",
    "    correlatedST = [np.array([])] * nn  # initialze spike trains\n",
    "    carrier = pp.generate_parallelST([carrier_rate], T)[0] #realize carrier process\n",
    "    for idx, spike in enumerate(carrier):\n",
    "        amplitude_drawn= np.random.choice(np.arange(nn), 1,   # For each spike in carrier, draw a number of amplitudes\n",
    "                            p = amplitudes_dist) +1           # according to probability distribution. \n",
    "        neuron_ids = np.random.choice(np.arange(nn), amplitude_drawn, replace=False) # Assign the spike uniformly to\n",
    "        for nid in neuron_ids:                                # that number (amplitude_drawn) of neuron.                       \n",
    "            correlatedST[nid]= np.append(correlatedST[nid],spike)                           \n",
    "    return correlatedST"
   ]
  },
  {
   "cell_type": "markdown",
   "metadata": {},
   "source": [
    "### A function to find index in rate list, where amplitude equals specific value.\n",
    "It is used in order to create specific amplitude distribution through input component rates."
   ]
  },
  {
   "cell_type": "code",
   "execution_count": 3,
   "metadata": {},
   "outputs": [],
   "source": [
    "# find index of specific amlitude in the rate list \n",
    "def index_of_amplitude(nn, amplitude):\n",
    "    def to_binary(number,n):\n",
    "        return ('{0:0'+str(n)+'b}').format(number)\n",
    "    \n",
    "    ampl = []\n",
    "    \n",
    "    for i in range(1, 2**nn):\n",
    "        \n",
    "        binary = to_binary(i,nn)\n",
    "        ampl.append(binary.count(\"1\"))\n",
    "    \n",
    "    ampl = np.array(ampl)\n",
    "    \n",
    "    return np.where(ampl==amplitude)\n"
   ]
  },
  {
   "cell_type": "markdown",
   "metadata": {},
   "source": [
    "### A function to count number of ones in binary code."
   ]
  },
  {
   "cell_type": "code",
   "execution_count": 6,
   "metadata": {},
   "outputs": [],
   "source": [
    "\n",
    "# Convert an integer into binary code and count how many ones are there.\n",
    "# Input parameter is a list of integers.\n",
    "def count_ones(n):\n",
    "    ones = np.zeros(len(n), dtype = int)\n",
    "    for i in range(len(n)):\n",
    "        ones[i] = bin(n[i]).count(\"1\")  \n",
    "    return ones"
   ]
  },
  {
   "cell_type": "markdown",
   "metadata": {},
   "source": [
    "### 0. Configure  parameters"
   ]
  },
  {
   "cell_type": "code",
   "execution_count": 4,
   "metadata": {},
   "outputs": [],
   "source": [
    "\n",
    "T = 100       # observation duration\n",
    "sample_size =100     # smaple size of theta\n",
    "thetas = np.arange(- np.pi, np.pi, step = 2 * np.pi / sample_size)\n",
    "nn = 10       # analytical number of neurons\n",
    "L = 10000       # nubmer of bin\n",
    "h = T/L       # bin size\n",
    "n_v = 10      # number of amplitudes to be estimated.\n"
   ]
  },
  {
   "cell_type": "markdown",
   "metadata": {},
   "source": [
    "### 1.  Generate poplulation spike trains methode 2: via component rates\n"
   ]
  },
  {
   "cell_type": "code",
   "execution_count": 7,
   "metadata": {},
   "outputs": [
    {
     "name": "stdout",
     "output_type": "stream",
     "text": [
      "Expected rate of amplitudes:  [0.09 0.   0.   0.   0.   0.   0.   0.   0.14 0.  ]\n"
     ]
    }
   ],
   "source": [
    "\n",
    "# generate poplulation spike trains methode 2: via component rates\n",
    "index_ampl1 = index_of_amplitude(nn, 1)\n",
    "index_ampl9 = index_of_amplitude(nn, 9)\n",
    "rate = np.zeros(2 ** nn -1)\n",
    "rate[index_ampl1]= 0.9 \n",
    "rate[index_ampl9]= 1.4\n",
    "\n",
    "rate_of_amplitudes = np.zeros(nn)\n",
    "rate_of_amplitudes[0] = 0.9 * np.size(index_ampl1) * h\n",
    "rate_of_amplitudes[8] = 1.4 * np.size(index_ampl9) * h\n",
    "print('Expected rate of amplitudes: ', rate_of_amplitudes)\n",
    "\n",
    "\n",
    "marked_process2 = pp.generate_markedProcess(rate, T)\n",
    "correlatedST2 = pp.markedProcess_to_correlatedST(marked_process2)  \n",
    "\n",
    "# caculate counts via marked prococess\n",
    "nr_ones = count_ones(marked_process2[1])\n",
    "counts, bin_edges= np.histogram(marked_process2[0], bins = L, range =(0, T), weights = nr_ones, density= False)\n",
    "\n",
    "\n"
   ]
  },
  {
   "cell_type": "markdown",
   "metadata": {},
   "source": [
    "### 1.  Alternative:  generate population spike trains methode 1: via amplitude distribution"
   ]
  },
  {
   "cell_type": "code",
   "execution_count": null,
   "metadata": {},
   "outputs": [],
   "source": [
    "# genearte population spike trains methode 1: via amplitude distribution\n",
    "amplitudes_dist = [0.6, 0, 0, 0, 0, 0, 0, 0, 0.4, 0]\n",
    "correlatedST = generate_popuActivity(amplitudes_dist, 30, T)\n",
    "#rate_of_amplitudes = np.array(amplitudes_dist) * h\n",
    "# caculate counts per spike trains \n",
    "counts= [np.array([])]*nn\n",
    "bin_edges2= [np.array([])]*nn\n",
    "for i in range(nn):\n",
    "    count, bin_edge= np.histogram(correlatedST[i], bins = L, range =(0, T), density= False)\n",
    "    counts[i]=count\n",
    "    bin_edges2[i] = bin_edge   \n",
    "counts = np.sum(counts,axis = 0)"
   ]
  },
  {
   "cell_type": "code",
   "execution_count": 1,
   "metadata": {},
   "outputs": [],
   "source": [
    "# plot amplitude distribution of emprical data\n",
    "# \n",
    "# int_mark = marked_process2[1]\n",
    "# binary_mark = utils.to_binary_matrix(int_mark)\n",
    "# amplitudes = np.sum(binary_mark, axis = 0)\n",
    "# count_ampl, bins_ampl, patches_ampl = plt.hist(amplitudes,L, density=False, stacked=True, align='mid', alpha = 0.8)''"
   ]
  },
  {
   "cell_type": "markdown",
   "metadata": {},
   "source": [
    "### 2. Generate emprical y values and  x in the log amplitude characterisc function."
   ]
  },
  {
   "cell_type": "code",
   "execution_count": 8,
   "metadata": {},
   "outputs": [],
   "source": [
    "#caculate emprical y values\n",
    "y_emprical = []\n",
    "sum1 = np.zeros(sample_size)\n",
    "for k in range(L):  # L corresponds to n in the formula\n",
    "    for l in range(L):\n",
    "        if k < l:\n",
    "            sum1 = np.cos((counts[k]- counts[l]) *thetas) + sum1\n",
    "y_emprical =  - np.log(L) + 1/2 * np.log(L + 2 *sum1)\n",
    "\n",
    "  \n",
    "    \n",
    "# analytical x\n",
    "x = np.zeros((sample_size, n_v))\n",
    "for i in range(sample_size):\n",
    "    for k in range(n_v):\n",
    "        x[i,k] = np.cos((k+1) * thetas[i]) - 1"
   ]
  },
  {
   "cell_type": "code",
   "execution_count": 10,
   "metadata": {},
   "outputs": [
    {
     "data": {
      "text/plain": [
       "<matplotlib.legend.Legend at 0x28fcbee1708>"
      ]
     },
     "execution_count": 10,
     "metadata": {},
     "output_type": "execute_result"
    },
    {
     "data": {
      "image/png": "[encoded data removed]",
      "text/plain": [
       "<Figure size 1440x360 with 1 Axes>"
      ]
     },
     "metadata": {
      "needs_background": "light"
     },
     "output_type": "display_data"
    }
   ],
   "source": [
    "# plot the two functions\n",
    "log_amplitude = np.dot(x, rate_of_amplitudes)\n",
    "plt.figure(figsize = (20,5) )\n",
    "plt.plot(thetas, y_emprical, color = 'blue',label = 'Emprical Characteristic Func.')  \n",
    "plt.plot(thetas,log_amplitude,color = 'red', label = 'Analytical Characteristic Func.')   \n",
    "plt.legend()"
   ]
  },
  {
   "cell_type": "markdown",
   "metadata": {},
   "source": [
    "### 3. Use Moore-Penrose-Inverse to caculate the coefficients of multiple linear regression."
   ]
  },
  {
   "cell_type": "code",
   "execution_count": 11,
   "metadata": {},
   "outputs": [
    {
     "name": "stdout",
     "output_type": "stream",
     "text": [
      "[ 8.98416929e-02  1.27227155e-03 -2.34172589e-04  1.33704006e-05\n",
      "  7.56970730e-07  8.71313884e-07  9.07506170e-07  9.04278362e-07\n",
      "  1.43291276e-01 -2.36580352e-04]\n"
     ]
    }
   ],
   "source": [
    "# pseudo inverse \n",
    "lambda_est = np.dot(np.linalg.pinv(np.dot(x.T,x)),np.dot(x.T,y_emprical)) # lambda_est = (X^T X)^(-1) X^T y\n",
    "print(lambda_est)"
   ]
  },
  {
   "cell_type": "markdown",
   "metadata": {},
   "source": [
    "### 3. Alternative: fitting with constraints"
   ]
  },
  {
   "cell_type": "code",
   "execution_count": 12,
   "metadata": {},
   "outputs": [
    {
     "name": "stdout",
     "output_type": "stream",
     "text": [
      "The first-order optimality measure is less than `tol`.\n",
      "Number of iterations 17, initial cost 3.4750e+01, final cost 1.1726e-05, first-order optimality 6.33e-13.\n"
     ]
    },
    {
     "data": {
      "text/plain": [
       "array([8.97119949e-02, 1.14257361e-03, 1.07447063e-13, 1.08843782e-10,\n",
       "       5.37142236e-11, 5.40367705e-11, 5.41393479e-11, 5.41301901e-11,\n",
       "       1.43161578e-01, 1.03360798e-13])"
      ]
     },
     "execution_count": 12,
     "metadata": {},
     "output_type": "execute_result"
    }
   ],
   "source": [
    "# non linear fitting with constraints, scipy.optimize.lsq_linear\n",
    "from scipy.optimize import lsq_linear\n",
    "b1 = np.zeros(nn)\n",
    "b2 = [np.sum(nr_ones)/L] *nn\n",
    "#b2 = [np.inf]*nn\n",
    "res= lsq_linear(x, y_emprical, bounds=(b1, b2), lsmr_tol='auto', verbose=1)\n",
    "res['x']\n"
   ]
  },
  {
   "cell_type": "markdown",
   "metadata": {},
   "source": [
    "### 3. Alternative: Use the fomula in the paper to caculate rates.\n",
    "Results are different from using linear regression."
   ]
  },
  {
   "cell_type": "code",
   "execution_count": 13,
   "metadata": {},
   "outputs": [
    {
     "name": "stderr",
     "output_type": "stream",
     "text": [
      "C:\\Users\\Willkommen\\anaconda3\\lib\\site-packages\\scipy\\integrate\\quadpack.py:453: ComplexWarning: Casting complex values to real discards the imaginary part\n",
      "  return _quadpack._qagse(func,a,b,args,full_output,epsabs,epsrel,limit)\n"
     ]
    },
    {
     "name": "stdout",
     "output_type": "stream",
     "text": [
      "[ 8.98407885e+00  1.27136716e-01 -2.35076961e-02  1.24660196e-03\n",
      " -1.47426400e-05 -3.30677804e-06  3.10529388e-07 -1.12491522e-08\n",
      "  1.43290371e+01 -2.37484727e-02]\n"
     ]
    }
   ],
   "source": [
    "# EDP - analytical estimated rates, using the foluma in the paper, same as obove section.\n",
    "import scipy.integrate as integrate\n",
    "gamma_est = []\n",
    "v = np.zeros(n_v)\n",
    "z_l =[0] * L + 1j * counts\n",
    "for tt in thetas:\n",
    "    gamma_est.append(1/L * np.sum(np.e ** (z_l * tt)))\n",
    "    \n",
    "n_l =[0] *n_v - 1j * (np.arange(n_v)+1)    \n",
    "\n",
    "def func(t, k): # t is theta\n",
    "    return np.log( 1/ L * np.sum (np.e ** (z_l * t)) ) * np.e**(n_l[k] * t)\n",
    "\n",
    "for k in range(n_v):\n",
    "    integral = integrate.quad(func, -np.pi, np.pi, args = (k))\n",
    "    v[k] = 1 / (2 * np.pi) * (1 / h) * integral[0]\n",
    "\n",
    "print(v)\n"
   ]
  },
  {
   "cell_type": "markdown",
   "metadata": {},
   "source": [
    "###  4. Plot analytical, emprical and caculated amplitude distributions."
   ]
  },
  {
   "cell_type": "code",
   "execution_count": 18,
   "metadata": {},
   "outputs": [
    {
     "data": {
      "text/plain": [
       "<matplotlib.legend.Legend at 0x28fcbf33ec8>"
      ]
     },
     "execution_count": 18,
     "metadata": {},
     "output_type": "execute_result"
    },
    {
     "data": {
      "image/png": "[encoded data removed]",
      "text/plain": [
       "<Figure size 432x288 with 1 Axes>"
      ]
     },
     "metadata": {
      "needs_background": "light"
     },
     "output_type": "display_data"
    }
   ],
   "source": [
    "# plot amplitude distribution of emprical data, analytical designed and final result\n",
    "int_mark = marked_process2[1]\n",
    "binary_mark = utils.to_binary_matrix(int_mark)\n",
    "amplitudes = np.sum(binary_mark, axis = 0)\n",
    "ampl, occurence = np.unique(amplitudes, return_counts=True)\n",
    "empirical_rates = occurence/T\n",
    "\n",
    "plt.figure()\n",
    "index = np.arange(1, len(rate_of_amplitudes)+1)\n",
    " \n",
    "plt.bar(index, rate_of_amplitudes/h, width=1, align='center', alpha = 0.6, color = 'blue', label= 'Desired amplitude distr.')\n",
    "plt.bar(ampl, empirical_rates, width=0.8, align='center', alpha = 0.8, color = 'red', label = 'Emprical amplitude distr.')\n",
    "plt.bar(index, res['x']/h, width=0.6, align='center', alpha = 0.8, color = 'black', label= 'Caculated amplitude distr.')\n",
    "plt.xticks(index)\n",
    "plt.legend()"
   ]
  },
  {
   "cell_type": "code",
   "execution_count": null,
   "metadata": {},
   "outputs": [],
   "source": [
    "# a script, to check the number of amplitudes for given number of neurons, if the population \n",
    "# activity is genereated via component rates. \n",
    "\n",
    "from itertools import combinations\n",
    "number_of_neurons = 10\n",
    "a = np.arange(number_of_neurons)\n",
    "for i in range(1,number_of_neurons + 1):\n",
    "    list1 = list(combinations(a,i))\n",
    "    # print('Amplitude of ',np.shape(list1)[1],  ', Number:', len(list1), '\\n')\n",
    "\n"
   ]
  }
 ],
 "metadata": {
  "kernelspec": {
   "display_name": "Python 3",
   "language": "python",
   "name": "python3"
  },
  "language_info": {
   "codemirror_mode": {
    "name": "ipython",
    "version": 3
   },
   "file_extension": ".py",
   "mimetype": "text/x-python",
   "name": "python",
   "nbconvert_exporter": "python",
   "pygments_lexer": "ipython3",
   "version": "3.7.6"
  }
 },
 "nbformat": 4,
 "nbformat_minor": 2
}
