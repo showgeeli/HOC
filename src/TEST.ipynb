{
 "cells": [
  {
   "cell_type": "code",
   "execution_count": 1,
   "metadata": {},
   "outputs": [],
   "source": [
    "from scipy.stats import lognorm\n",
    "import matplotlib.pyplot as plt\n",
    "import numpy as np \n",
    "import Correlated_Poisson_Process as pp\n",
    "import Plot as plot"
   ]
  },
  {
   "cell_type": "markdown",
   "metadata": {},
   "source": [
    "# 1. Generate spike trains for neurons with higher-order correlations"
   ]
  },
  {
   "cell_type": "code",
   "execution_count": 6,
   "metadata": {},
   "outputs": [],
   "source": [
    "# # generate parallel spikes with different rates\n",
    "# spike_trains = pp.generate_parallelST([0.2,0.2,0.4,0.4,0.4,0.2,0.1], 10) \n",
    "# marked_process1 = pp.parallelST_to_markedProcess(spike_trains)\n",
    "# # reverse marked process to parallel spike trains. \n",
    "# components = pp.markedProcess_to_components(marked_process1)\n",
    "\n",
    "# correlatedST1 = pp.markedProcess_to_correlatedST(marked_process1)\n",
    "\n",
    "# # generate marked process with list of rates\n",
    "# marked_process2 = pp.generate_markedProcess([0.5,0.6,0.7,0.4,0.4,0.4,0.8], 50)\n",
    "# correlatedST2 = pp.markedProcess_to_correlatedST(marked_process2)\n",
    "\n",
    "# # use rate distribution to generate marked process directly\n",
    "# marked_process3 = pp.direct_markedProcess([0.5,0.4,0.3,0.4,0.4,0.6,0.5], 10)\n",
    "# correlatedST3 = pp.markedProcess_to_correlatedST(marked_process3)\n",
    "\n",
    "\n",
    "# # # plot corrleated poisson process. Same amplitude has same color\n",
    "# # plot.colorPlot_correlatedST(marked_process3, color_key='amplitudes')\n",
    "# # # plot corrleated poisson process. Spikes coming from same component have same color.\n",
    "# # # Color map can be changed, default is plt.cm.hsv\n",
    "# # import matplotlib.pyplot as plt\n",
    "# # plot.colorPlot_correlatedST(marked_process3, color_key='components',color_map = plt.cm.tab10)"
   ]
  },
  {
   "cell_type": "code",
   "execution_count": 5,
   "metadata": {},
   "outputs": [],
   "source": [
    "# counts = np.zeros(L, dtype = int)\n",
    "# for spikes in correlatedST2:\n",
    "#     count, bins = np.histogram(spikes, bins = L, density = False)\n",
    "#     print(count, bins)\n",
    "#     counts = counts + count\n",
    "# print(counts, len(counts))\n",
    "# counts2, bins, patches = plt.hist(correlatedST2,L, density=False, stacked=True, align='mid', alpha = 0.8)\n",
    "# print(counts2, bins)\n",
    "# counts2 = np.sum(counts2, axis=0)\n",
    "# print(counts2, len(counts2))"
   ]
  },
  {
   "cell_type": "code",
   "execution_count": 44,
   "metadata": {},
   "outputs": [
    {
     "name": "stdout",
     "output_type": "stream",
     "text": [
      "(50,)\n"
     ]
    }
   ],
   "source": [
    "T = 50  # observation duration\n",
    "L = 30  # number of bins\n",
    "h = T/L # bin size\n",
    "y = []\n",
    "nv = 3 #number of first firing rates to be estimated\n",
    "sample_size = 50  # number of sampled theta and y\n",
    "theta = np.arange(-np.pi, np.pi, step = 2 * np.pi / sample_size)\n",
    "print(np.shape(theta))"
   ]
  },
  {
   "cell_type": "code",
   "execution_count": 45,
   "metadata": {},
   "outputs": [
    {
     "data": {
      "image/png": "[encoded data removed]",
      "text/plain": [
       "<Figure size 432x288 with 1 Axes>"
      ]
     },
     "metadata": {
      "needs_background": "light"
     },
     "output_type": "display_data"
    }
   ],
   "source": [
    "#for i in range(sample_size):\n",
    "marked_process2 = pp.generate_markedProcess([0.5,0.6,0.7,0.4,0.4,0.4,0.8], 50)\n",
    "correlatedST2 = pp.markedProcess_to_correlatedST(marked_process2)    \n",
    "\n",
    "count, bins, patches = plt.hist(correlatedST2,L, density=False, stacked=True, align='mid', alpha = 0.8)\n",
    "#plt.clf()\n",
    "y = []\n",
    "counts = np.sum(count, axis =0)\n",
    "z_l =[0] * L + 1j * counts\n",
    "for tt in theta:\n",
    "    gamma_est = 1/L * np.sum(np.e ** (z_l * tt))\n",
    "    y.append(1/h * np.log(gamma_est))\n"
   ]
  },
  {
   "cell_type": "code",
   "execution_count": 46,
   "metadata": {},
   "outputs": [
    {
     "name": "stdout",
     "output_type": "stream",
     "text": [
      "[ 2.99833727e-07-7.82148735e-07j  2.99832814e-07-7.82148717e-07j\n",
      "  2.99832814e-07-7.82148717e-07j -1.02985237e+00+2.06045703e-02j]\n"
     ]
    }
   ],
   "source": [
    "X = np.zeros((sample_size, nv+1))\n",
    "for i in range(sample_size):\n",
    "    X[i,:] = np.e**((nv+1) * theta[i]) \n",
    "X[:,nv] = 1\n",
    "\n",
    "lambda_est = np.dot(np.linalg.pinv(np.dot(X.T,X)),np.dot(X.T,y)) # lambda_est = (X^T X)^(-1) X^T y\n",
    "print(lambda_est)"
   ]
  },
  {
   "cell_type": "code",
   "execution_count": 39,
   "metadata": {},
   "outputs": [
    {
     "ename": "TypeError",
     "evalue": "only size-1 arrays can be converted to Python scalars",
     "output_type": "error",
     "traceback": [
      "\u001b[1;31m---------------------------------------------------------------------------\u001b[0m",
      "\u001b[1;31mTypeError\u001b[0m                                 Traceback (most recent call last)",
      "\u001b[1;32m<ipython-input-39-fc268634274d>\u001b[0m in \u001b[0;36m<module>\u001b[1;34m\u001b[0m\n\u001b[0;32m      3\u001b[0m \u001b[1;32mdef\u001b[0m \u001b[0mv_esti\u001b[0m\u001b[1;33m(\u001b[0m\u001b[0mt\u001b[0m\u001b[1;33m)\u001b[0m\u001b[1;33m:\u001b[0m\u001b[1;33m\u001b[0m\u001b[1;33m\u001b[0m\u001b[0m\n\u001b[0;32m      4\u001b[0m     \u001b[1;32mreturn\u001b[0m \u001b[1;36m1\u001b[0m\u001b[1;33m/\u001b[0m\u001b[0mh\u001b[0m \u001b[1;33m*\u001b[0m \u001b[0mnp\u001b[0m\u001b[1;33m.\u001b[0m\u001b[0mlog\u001b[0m\u001b[1;33m(\u001b[0m \u001b[1;36m1\u001b[0m\u001b[1;33m/\u001b[0m \u001b[0mL\u001b[0m \u001b[1;33m*\u001b[0m \u001b[0mnp\u001b[0m\u001b[1;33m.\u001b[0m\u001b[0msum\u001b[0m \u001b[1;33m(\u001b[0m\u001b[0mnp\u001b[0m\u001b[1;33m.\u001b[0m\u001b[0me\u001b[0m \u001b[1;33m**\u001b[0m \u001b[1;33m(\u001b[0m\u001b[0mz_l\u001b[0m \u001b[1;33m*\u001b[0m \u001b[0mt\u001b[0m\u001b[1;33m)\u001b[0m\u001b[1;33m)\u001b[0m\u001b[1;33m)\u001b[0m\u001b[1;33m*\u001b[0m \u001b[0mnp\u001b[0m\u001b[1;33m.\u001b[0m\u001b[0me\u001b[0m\u001b[1;33m**\u001b[0m\u001b[1;33m(\u001b[0m\u001b[1;33m-\u001b[0m\u001b[0mn_l\u001b[0m \u001b[1;33m*\u001b[0m\u001b[0mt\u001b[0m\u001b[1;33m)\u001b[0m\u001b[1;33m\u001b[0m\u001b[1;33m\u001b[0m\u001b[0m\n\u001b[1;32m----> 5\u001b[1;33m \u001b[0mresult\u001b[0m \u001b[1;33m=\u001b[0m \u001b[1;36m1\u001b[0m \u001b[1;33m/\u001b[0m \u001b[1;33m(\u001b[0m\u001b[1;36m2\u001b[0m\u001b[1;33m*\u001b[0m\u001b[0mnp\u001b[0m\u001b[1;33m.\u001b[0m\u001b[0mpi\u001b[0m\u001b[1;33m)\u001b[0m \u001b[1;33m*\u001b[0m \u001b[0mintegrate\u001b[0m\u001b[1;33m.\u001b[0m\u001b[0mquad\u001b[0m\u001b[1;33m(\u001b[0m\u001b[1;32mlambda\u001b[0m \u001b[0mt\u001b[0m\u001b[1;33m:\u001b[0m\u001b[1;36m1\u001b[0m\u001b[1;33m/\u001b[0m\u001b[0mh\u001b[0m \u001b[1;33m*\u001b[0m \u001b[0mnp\u001b[0m\u001b[1;33m.\u001b[0m\u001b[0mlog\u001b[0m\u001b[1;33m(\u001b[0m \u001b[1;36m1\u001b[0m\u001b[1;33m/\u001b[0m \u001b[0mL\u001b[0m \u001b[1;33m*\u001b[0m \u001b[0mnp\u001b[0m\u001b[1;33m.\u001b[0m\u001b[0msum\u001b[0m \u001b[1;33m(\u001b[0m\u001b[0mnp\u001b[0m\u001b[1;33m.\u001b[0m\u001b[0me\u001b[0m \u001b[1;33m**\u001b[0m \u001b[1;33m(\u001b[0m\u001b[0mz_l\u001b[0m \u001b[1;33m*\u001b[0m \u001b[0mt\u001b[0m\u001b[1;33m)\u001b[0m\u001b[1;33m)\u001b[0m\u001b[1;33m)\u001b[0m\u001b[1;33m*\u001b[0m \u001b[0mnp\u001b[0m\u001b[1;33m.\u001b[0m\u001b[0me\u001b[0m\u001b[1;33m**\u001b[0m\u001b[1;33m(\u001b[0m\u001b[1;33m-\u001b[0m\u001b[0mn_l\u001b[0m \u001b[1;33m*\u001b[0m\u001b[0mt\u001b[0m\u001b[1;33m)\u001b[0m \u001b[1;33m,\u001b[0m \u001b[1;33m-\u001b[0m\u001b[0mnp\u001b[0m\u001b[1;33m.\u001b[0m\u001b[0mpi\u001b[0m\u001b[1;33m,\u001b[0m \u001b[0mnp\u001b[0m\u001b[1;33m.\u001b[0m\u001b[0mpi\u001b[0m\u001b[1;33m)\u001b[0m\u001b[1;33m\u001b[0m\u001b[1;33m\u001b[0m\u001b[0m\n\u001b[0m",
      "\u001b[1;32m~\\anaconda3\\lib\\site-packages\\scipy\\integrate\\quadpack.py\u001b[0m in \u001b[0;36mquad\u001b[1;34m(func, a, b, args, full_output, epsabs, epsrel, limit, points, weight, wvar, wopts, maxp1, limlst)\u001b[0m\n\u001b[0;32m    340\u001b[0m     \u001b[1;32mif\u001b[0m \u001b[0mweight\u001b[0m \u001b[1;32mis\u001b[0m \u001b[1;32mNone\u001b[0m\u001b[1;33m:\u001b[0m\u001b[1;33m\u001b[0m\u001b[1;33m\u001b[0m\u001b[0m\n\u001b[0;32m    341\u001b[0m         retval = _quad(func, a, b, args, full_output, epsabs, epsrel, limit,\n\u001b[1;32m--> 342\u001b[1;33m                        points)\n\u001b[0m\u001b[0;32m    343\u001b[0m     \u001b[1;32melse\u001b[0m\u001b[1;33m:\u001b[0m\u001b[1;33m\u001b[0m\u001b[1;33m\u001b[0m\u001b[0m\n\u001b[0;32m    344\u001b[0m         \u001b[1;32mif\u001b[0m \u001b[0mpoints\u001b[0m \u001b[1;32mis\u001b[0m \u001b[1;32mnot\u001b[0m \u001b[1;32mNone\u001b[0m\u001b[1;33m:\u001b[0m\u001b[1;33m\u001b[0m\u001b[1;33m\u001b[0m\u001b[0m\n",
      "\u001b[1;32m~\\anaconda3\\lib\\site-packages\\scipy\\integrate\\quadpack.py\u001b[0m in \u001b[0;36m_quad\u001b[1;34m(func, a, b, args, full_output, epsabs, epsrel, limit, points)\u001b[0m\n\u001b[0;32m    451\u001b[0m     \u001b[1;32mif\u001b[0m \u001b[0mpoints\u001b[0m \u001b[1;32mis\u001b[0m \u001b[1;32mNone\u001b[0m\u001b[1;33m:\u001b[0m\u001b[1;33m\u001b[0m\u001b[1;33m\u001b[0m\u001b[0m\n\u001b[0;32m    452\u001b[0m         \u001b[1;32mif\u001b[0m \u001b[0minfbounds\u001b[0m \u001b[1;33m==\u001b[0m \u001b[1;36m0\u001b[0m\u001b[1;33m:\u001b[0m\u001b[1;33m\u001b[0m\u001b[1;33m\u001b[0m\u001b[0m\n\u001b[1;32m--> 453\u001b[1;33m             \u001b[1;32mreturn\u001b[0m \u001b[0m_quadpack\u001b[0m\u001b[1;33m.\u001b[0m\u001b[0m_qagse\u001b[0m\u001b[1;33m(\u001b[0m\u001b[0mfunc\u001b[0m\u001b[1;33m,\u001b[0m\u001b[0ma\u001b[0m\u001b[1;33m,\u001b[0m\u001b[0mb\u001b[0m\u001b[1;33m,\u001b[0m\u001b[0margs\u001b[0m\u001b[1;33m,\u001b[0m\u001b[0mfull_output\u001b[0m\u001b[1;33m,\u001b[0m\u001b[0mepsabs\u001b[0m\u001b[1;33m,\u001b[0m\u001b[0mepsrel\u001b[0m\u001b[1;33m,\u001b[0m\u001b[0mlimit\u001b[0m\u001b[1;33m)\u001b[0m\u001b[1;33m\u001b[0m\u001b[1;33m\u001b[0m\u001b[0m\n\u001b[0m\u001b[0;32m    454\u001b[0m         \u001b[1;32melse\u001b[0m\u001b[1;33m:\u001b[0m\u001b[1;33m\u001b[0m\u001b[1;33m\u001b[0m\u001b[0m\n\u001b[0;32m    455\u001b[0m             \u001b[1;32mreturn\u001b[0m \u001b[0m_quadpack\u001b[0m\u001b[1;33m.\u001b[0m\u001b[0m_qagie\u001b[0m\u001b[1;33m(\u001b[0m\u001b[0mfunc\u001b[0m\u001b[1;33m,\u001b[0m\u001b[0mbound\u001b[0m\u001b[1;33m,\u001b[0m\u001b[0minfbounds\u001b[0m\u001b[1;33m,\u001b[0m\u001b[0margs\u001b[0m\u001b[1;33m,\u001b[0m\u001b[0mfull_output\u001b[0m\u001b[1;33m,\u001b[0m\u001b[0mepsabs\u001b[0m\u001b[1;33m,\u001b[0m\u001b[0mepsrel\u001b[0m\u001b[1;33m,\u001b[0m\u001b[0mlimit\u001b[0m\u001b[1;33m)\u001b[0m\u001b[1;33m\u001b[0m\u001b[1;33m\u001b[0m\u001b[0m\n",
      "\u001b[1;31mTypeError\u001b[0m: only size-1 arrays can be converted to Python scalars"
     ]
    }
   ],
   "source": [
    "import scipy.integrate as integrate\n",
    "n_l =[0] * 3 - 1j * (np.arange(nv)+1)\n",
    "# def v_esti(t):\n",
    "#     return 1/h * np.log( 1/ L * np.sum (np.e ** (z_l * t)))* np.e**(-n_l *t)\n",
    "result = 1 / (2*np.pi) * integrate.quad(, -np.pi, np.pi)"
   ]
  },
  {
   "cell_type": "markdown",
   "metadata": {},
   "source": [
    "# 2. Thinning process"
   ]
  },
  {
   "cell_type": "markdown",
   "metadata": {},
   "source": [
    "## 2.1 Thinning a poissonian spike train"
   ]
  },
  {
   "cell_type": "code",
   "execution_count": 81,
   "metadata": {},
   "outputs": [
    {
     "name": "stdout",
     "output_type": "stream",
     "text": [
      "R_m:  1.0559048641923061\n",
      "9\n",
      "7\n"
     ]
    }
   ],
   "source": [
    "rate = 4       # rate (λ) of the target spike train\n",
    "cv = 1       # coefficiant of variation (cv) of the target spike train\n",
    "T = 10 \n",
    "sigma = np.sqrt(np.log(cv**2 +1))             # analytical expression of σ\n",
    "mu = -0.5 * np.log(rate**2 * (cv**2 +1))      # analytical expression of μ    \n",
    "\n",
    "#define hazard function\n",
    "def hazard(t):\n",
    "    pdf = lognorm.pdf(t, sigma, np.exp(mu))\n",
    "    sf = lognorm.sf(t, sigma, np.exp(mu))\n",
    "    return pdf / sf\n",
    "\n",
    "# define R_m, which is a bit greater than the peak value of hazard function.   \n",
    "x = np.linspace(0, T, 300)\n",
    "R_m = max(hazard(x)) * 1.1\n",
    "print('R_m: ', R_m)\n",
    "\n",
    "S = pp.generate_parallelST([R_m], T)[0] # stimulate a Poisson process with rate R_m\n",
    "n = len(S)\n",
    "U = np.random.uniform(0,R_m, n) # draw n random values between [0, R_m)\n",
    "t_latest = S[0] \n",
    "new_S = [t_latest]\n",
    "# For each spike draw a random value between [0, R_m). If the random value\n",
    "# greater than the value of hazard function, reject the spike and continue\n",
    "# the hazard function until the random value is no greater than the hazard \n",
    "# function. Then save the spike and reset the hazard function.\n",
    "for i in range(1,n):\n",
    "    if U[i] <= hazard([S[i]-t_latest]):\n",
    "        t_latest = S[i]\n",
    "        new_S.append(t_latest)\n",
    "# print the number of spikes before and after thinning\n",
    "print(len(S))\n",
    "print(len(new_S))"
   ]
  },
  {
   "cell_type": "markdown",
   "metadata": {},
   "source": [
    "## 2.2 Visualize the thinning process "
   ]
  },
  {
   "cell_type": "code",
   "execution_count": 82,
   "metadata": {},
   "outputs": [
    {
     "data": {
      "text/plain": [
       "<matplotlib.legend.Legend at 0x1e6bf3b5588>"
      ]
     },
     "execution_count": 82,
     "metadata": {},
     "output_type": "execute_result"
    },
    {
     "data": {
      "image/png": "[encoded data removed]",
      "text/plain": [
       "<Figure size 432x288 with 1 Axes>"
      ]
     },
     "metadata": {
      "needs_background": "light"
     },
     "output_type": "display_data"
    }
   ],
   "source": [
    "####plot the thinning process. Hazard function is not a monotonic. Grey spikes are rejected. Red spikes are kept.\n",
    "\n",
    "plt.figure()\n",
    "for i in range(len(new_S)-1):\n",
    "    xs = np.linspace(new_S[i], new_S[i+1], 100)\n",
    "    plt.plot(xs, hazard(xs-new_S[i]), c = 'k')\n",
    "# plot the last part of harzard function, where it equals 0\n",
    "x_tail = np.linspace(new_S[-1], S[-1], 50)\n",
    "plt.plot(x_tail, hazard(x_tail-new_S[-1]), c = 'k')\n",
    "# plot the spikes\n",
    "y= np.empty(len(S))\n",
    "y.fill(-0.1) \n",
    "y_new = np.empty(len(new_S))\n",
    "y_new.fill(-0.1) \n",
    "new_U = U[S.searchsorted(new_S)] # find corresponding U for new_S\n",
    "plt.scatter(S, U, marker = '*', c = 'gray')\n",
    "plt.scatter(new_S, new_U, marker = '*', c = 'r')\n",
    "plt.plot(S, y, marker = '|', linestyle = '', markersize=30, c = 'gray')\n",
    "plt.plot(new_S, y_new, marker = '|', linestyle = '', markersize=30, c = 'r')\n",
    "plt.plot(x, [R_m]*len(x), ':k', label = 'R_m')\n",
    "plt.ylim(-0.1, R_m+0.1);\n",
    "plt.legend(loc = \"upper left\")"
   ]
  },
  {
   "cell_type": "markdown",
   "metadata": {},
   "source": [
    "# 3. Validation\n",
    "Stimulate a Poisson process and thin it. Plot the ISI distribution of newly generated spike train. Validate that it is the desired lognormal distribution."
   ]
  },
  {
   "cell_type": "code",
   "execution_count": 83,
   "metadata": {
    "scrolled": true
   },
   "outputs": [
    {
     "name": "stdout",
     "output_type": "stream",
     "text": [
      "5362\n",
      "485\n"
     ]
    }
   ],
   "source": [
    "rate = 40       # rate (λ) of the target spike train\n",
    "cv = 0.2        # coefficiant of variation (cv) of the target spike train\n",
    "T = 500 \n",
    "sigma = np.sqrt(np.log(cv**2 +1))             # analytical expression of σ\n",
    "mu = -0.5 * np.log(rate**2 * (cv**2 +1))      # analytical expression of μ\n",
    "\n",
    "def hazard(t):\n",
    "    pdf = lognorm.pdf(t, sigma, np.exp(mu)) # probability density function\n",
    "    sf = lognorm.sf(t, sigma, np.exp(mu))   # survival function\n",
    "    return pdf / sf\n",
    "\n",
    "# define R_m, which is a bit greater than peak value of hazard function.\n",
    "# With bigger R_m more spikes will be rejected. With smaller R_m, more \n",
    "# spikes will be kept, which makes an efficient thinning process.\n",
    "x = np.linspace(0, T, 300)\n",
    "R_m = max(hazard(x)) * 1.1 # magnification factor 1.1. It can be replaced.\n",
    "\n",
    "S = pp.generate_parallelST([R_m], T)[0] # Poisson process with rate R_m\n",
    "new_S = pp.thinning(S, rate, cv, T)\n",
    "\n",
    "# print the number of spikes before and after thinning\n",
    "print(len(S))\n",
    "print(len(new_S))\n",
    "isi_logn = np.diff(new_S)"
   ]
  },
  {
   "cell_type": "code",
   "execution_count": 84,
   "metadata": {},
   "outputs": [
    {
     "data": {
      "text/plain": [
       "[<matplotlib.lines.Line2D at 0x1e6bf3c7888>]"
      ]
     },
     "execution_count": 84,
     "metadata": {},
     "output_type": "execute_result"
    },
    {
     "data": {
      "image/png": "[encoded data removed]",
      "text/plain": [
       "<Figure size 432x288 with 1 Axes>"
      ]
     },
     "metadata": {
      "needs_background": "light"
     },
     "output_type": "display_data"
    }
   ],
   "source": [
    "# plot the histogramm of ISI and the pdf curve \n",
    "plt.figure()\n",
    "count, bins, ignored = plt.hist(isi_logn,30, density=True, align='mid')\n",
    "xs = np.linspace(min(bins),max(bins), 300)\n",
    "pdf =lognorm.pdf(xs, sigma, np.exp(mu))\n",
    "plt.plot(xs, pdf, c = 'k')"
   ]
  },
  {
   "cell_type": "code",
   "execution_count": null,
   "metadata": {},
   "outputs": [],
   "source": []
  }
 ],
 "metadata": {
  "kernelspec": {
   "display_name": "Python 3",
   "language": "python",
   "name": "python3"
  },
  "language_info": {
   "codemirror_mode": {
    "name": "ipython",
    "version": 3
   },
   "file_extension": ".py",
   "mimetype": "text/x-python",
   "name": "python",
   "nbconvert_exporter": "python",
   "pygments_lexer": "ipython3",
   "version": "3.7.6"
  }
 },
 "nbformat": 4,
 "nbformat_minor": 2
}
