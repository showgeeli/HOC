{
 "cells": [
  {
   "cell_type": "markdown",
   "metadata": {},
   "source": [
    "# Correlated poisson processes"
   ]
  },
  {
   "cell_type": "code",
   "execution_count": 2,
   "metadata": {},
   "outputs": [],
   "source": [
    "import Correlated_Poisson_Process as pp\n",
    "import Plot as plot\n",
    "import numpy as np\n",
    "import matplotlib.pyplot as plt"
   ]
  },
  {
   "cell_type": "code",
   "execution_count": 3,
   "metadata": {},
   "outputs": [
    {
     "ename": "TypeError",
     "evalue": "parallelST_to_markedProcess() missing 1 required positional argument: 'nn'",
     "output_type": "error",
     "traceback": [
      "\u001b[1;31m---------------------------------------------------------------------------\u001b[0m",
      "\u001b[1;31mTypeError\u001b[0m                                 Traceback (most recent call last)",
      "\u001b[1;32m<ipython-input-3-59427daf1c77>\u001b[0m in \u001b[0;36m<module>\u001b[1;34m\u001b[0m\n\u001b[0;32m      1\u001b[0m \u001b[1;31m# generate parallel spikes\u001b[0m\u001b[1;33m\u001b[0m\u001b[1;33m\u001b[0m\u001b[1;33m\u001b[0m\u001b[0m\n\u001b[0;32m      2\u001b[0m \u001b[0mspike_trains\u001b[0m \u001b[1;33m=\u001b[0m \u001b[0mpp\u001b[0m\u001b[1;33m.\u001b[0m\u001b[0mgenerate_parallelST\u001b[0m\u001b[1;33m(\u001b[0m\u001b[1;36m0.3\u001b[0m\u001b[1;33m,\u001b[0m \u001b[1;36m10\u001b[0m\u001b[1;33m,\u001b[0m\u001b[1;36m7\u001b[0m\u001b[1;33m)\u001b[0m\u001b[1;33m\u001b[0m\u001b[1;33m\u001b[0m\u001b[0m\n\u001b[1;32m----> 3\u001b[1;33m \u001b[0mmarked_process\u001b[0m \u001b[1;33m=\u001b[0m \u001b[0mpp\u001b[0m\u001b[1;33m.\u001b[0m\u001b[0mparallelST_to_markedProcess\u001b[0m\u001b[1;33m(\u001b[0m\u001b[0mspike_trains\u001b[0m\u001b[1;33m)\u001b[0m\u001b[1;33m\u001b[0m\u001b[1;33m\u001b[0m\u001b[0m\n\u001b[0m\u001b[0;32m      4\u001b[0m \u001b[0msts\u001b[0m \u001b[1;33m=\u001b[0m \u001b[0mpp\u001b[0m\u001b[1;33m.\u001b[0m\u001b[0mmarkedProcess_to_prallelST\u001b[0m \u001b[1;33m(\u001b[0m\u001b[0mmarked_process\u001b[0m\u001b[1;33m)\u001b[0m\u001b[1;33m\u001b[0m\u001b[1;33m\u001b[0m\u001b[0m\n\u001b[0;32m      5\u001b[0m \u001b[1;33m\u001b[0m\u001b[0m\n",
      "\u001b[1;31mTypeError\u001b[0m: parallelST_to_markedProcess() missing 1 required positional argument: 'nn'"
     ]
    }
   ],
   "source": [
    "# generate parallel spikes\n",
    "spike_trains = pp.generate_parallelST(0.3, 10,7) \n",
    "marked_process = pp.parallelST_to_markedProcess(spike_trains)\n",
    "sts = pp.markedProcess_to_prallelST (marked_process) \n",
    "\n",
    "# plot corrleated poisson process. Same amplitude has same color\n",
    "plot.correlated_colorPlot(marked_process, color_key='amplitudes')\n",
    "# plot corrleated poisson process. Spikes coming from same component have same color.\n",
    "plot.correlated_colorPlot(marked_process, color_key='components')\n",
    "\n",
    "\n",
    "# generate marked process, with rates, T, abitrary number of neurons as input parameters.\n",
    "marked_process2 = pp.generate_markedProcess([0.2,0.2,0.3,0.3,0.4,0.4,0.1], 10)\n",
    "# plot in color according to the number of components\n",
    "plot.correlated_colorPlot(marked_process2, color_key='amplitudes')\n",
    "plot.correlated_colorPlot(marked_process2, color_key='components')\n",
    "\n",
    "\n"
   ]
  }
 ],
 "metadata": {
  "kernelspec": {
   "display_name": "Python [conda env:elephant]",
   "language": "python",
   "name": "conda-env-elephant-py"
  },
  "language_info": {
   "codemirror_mode": {
    "name": "ipython",
    "version": 3
   },
   "file_extension": ".py",
   "mimetype": "text/x-python",
   "name": "python",
   "nbconvert_exporter": "python",
   "pygments_lexer": "ipython3",
   "version": "3.7.9"
  }
 },
 "nbformat": 4,
 "nbformat_minor": 4
}
